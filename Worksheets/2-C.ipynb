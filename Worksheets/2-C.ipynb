{
 "cells": [
  {
   "cell_type": "code",
   "execution_count": 1,
   "id": "e4e08fe6",
   "metadata": {
    "_execution_state": "idle",
    "_uuid": "051d70d956493feee0c6d64651c6a088724dca2a",
    "execution": {
     "iopub.execute_input": "2024-09-21T08:52:52.992754Z",
     "iopub.status.busy": "2024-09-21T08:52:52.990400Z",
     "iopub.status.idle": "2024-09-21T08:52:54.347895Z",
     "shell.execute_reply": "2024-09-21T08:52:54.345897Z"
    },
    "papermill": {
     "duration": 1.368059,
     "end_time": "2024-09-21T08:52:54.350602",
     "exception": false,
     "start_time": "2024-09-21T08:52:52.982543",
     "status": "completed"
    },
    "tags": []
   },
   "outputs": [
    {
     "name": "stderr",
     "output_type": "stream",
     "text": [
      "── \u001b[1mAttaching core tidyverse packages\u001b[22m ──────────────────────── tidyverse 2.0.0 ──\n",
      "\u001b[32m✔\u001b[39m \u001b[34mdplyr    \u001b[39m 1.1.4     \u001b[32m✔\u001b[39m \u001b[34mreadr    \u001b[39m 2.1.5\n",
      "\u001b[32m✔\u001b[39m \u001b[34mforcats  \u001b[39m 1.0.0     \u001b[32m✔\u001b[39m \u001b[34mstringr  \u001b[39m 1.5.1\n",
      "\u001b[32m✔\u001b[39m \u001b[34mggplot2  \u001b[39m 3.5.1     \u001b[32m✔\u001b[39m \u001b[34mtibble   \u001b[39m 3.2.1\n",
      "\u001b[32m✔\u001b[39m \u001b[34mlubridate\u001b[39m 1.9.3     \u001b[32m✔\u001b[39m \u001b[34mtidyr    \u001b[39m 1.3.1\n",
      "\u001b[32m✔\u001b[39m \u001b[34mpurrr    \u001b[39m 1.0.2     \n"
     ]
    },
    {
     "name": "stderr",
     "output_type": "stream",
     "text": [
      "── \u001b[1mConflicts\u001b[22m ────────────────────────────────────────── tidyverse_conflicts() ──\n",
      "\u001b[31m✖\u001b[39m \u001b[34mdplyr\u001b[39m::\u001b[32mfilter()\u001b[39m masks \u001b[34mstats\u001b[39m::filter()\n",
      "\u001b[31m✖\u001b[39m \u001b[34mdplyr\u001b[39m::\u001b[32mlag()\u001b[39m    masks \u001b[34mstats\u001b[39m::lag()\n",
      "\u001b[36mℹ\u001b[39m Use the conflicted package (\u001b[3m\u001b[34m<http://conflicted.r-lib.org/>\u001b[39m\u001b[23m) to force all conflicts to become errors\n"
     ]
    },
    {
     "data": {
      "text/html": [
       "'2c-data'"
      ],
      "text/latex": [
       "'2c-data'"
      ],
      "text/markdown": [
       "'2c-data'"
      ],
      "text/plain": [
       "[1] \"2c-data\""
      ]
     },
     "metadata": {},
     "output_type": "display_data"
    }
   ],
   "source": [
    "# This R environment comes with many helpful analytics packages installed\n",
    "# It is defined by the kaggle/rstats Docker image: https://github.com/kaggle/docker-rstats\n",
    "# For example, here's a helpful package to load\n",
    "\n",
    "library(tidyverse) # metapackage of all tidyverse packages\n",
    "\n",
    "# Input data files are available in the read-only \"../input/\" directory\n",
    "# For example, running this (by clicking run or pressing Shift+Enter) will list all files under the input directory\n",
    "\n",
    "list.files(path = \"../input\")\n",
    "\n",
    "# You can write up to 20GB to the current directory (/kaggle/working/) that gets preserved as output when you create a version using \"Save & Run All\" \n",
    "# You can also write temporary files to /kaggle/temp/, but they won't be saved outside of the current session"
   ]
  },
  {
   "cell_type": "markdown",
   "id": "82bd5ea5",
   "metadata": {
    "papermill": {
     "duration": 0.005246,
     "end_time": "2024-09-21T08:52:54.361500",
     "exception": false,
     "start_time": "2024-09-21T08:52:54.356254",
     "status": "completed"
    },
    "tags": []
   },
   "source": [
    "# **3. Logistic Regression**"
   ]
  },
  {
   "cell_type": "markdown",
   "id": "812bb6e8",
   "metadata": {
    "papermill": {
     "duration": 0.005116,
     "end_time": "2024-09-21T08:52:54.371806",
     "exception": false,
     "start_time": "2024-09-21T08:52:54.366690",
     "status": "completed"
    },
    "tags": []
   },
   "source": [
    "Logistic regression is an algorithm that estimates the parameters, or coefficients, of the linear combination\n",
    "of the logit model. The logistic or logit model is used to predict the probability 'p' of a binary dependent variable taking on one of two possible outcomes. This feature makes Logistic Regression useful even in problems of binary classification"
   ]
  },
  {
   "cell_type": "markdown",
   "id": "3ab6fe99",
   "metadata": {
    "papermill": {
     "duration": 0.00511,
     "end_time": "2024-09-21T08:52:54.382153",
     "exception": false,
     "start_time": "2024-09-21T08:52:54.377043",
     "status": "completed"
    },
    "tags": []
   },
   "source": [
    "**Exploring the Factors Influencing Electric Vehicle Adoption**"
   ]
  },
  {
   "cell_type": "markdown",
   "id": "b20c73f9",
   "metadata": {
    "papermill": {
     "duration": 0.005042,
     "end_time": "2024-09-21T08:52:54.392267",
     "exception": false,
     "start_time": "2024-09-21T08:52:54.387225",
     "status": "completed"
    },
    "tags": []
   },
   "source": [
    "In recent years, the push towards sustainable living and reducing carbon footprints has intensified globally. Among the many initiatives aimed at achieving this, the adoption of electric vehicles (EVs) stands out as a critical measure.Car manufacturers have all been actively promoting the transition from traditional gasoline-powered vehicles to electric ones.\n",
    "\n",
    "To better understand the dynamics of this transition, a comprehensive study was conducted to explore the factors influencing individuals' decisions to adopt electric vehicles.The dataset aims to provide valuable insights into the key predictors that drive or hinder the adoption of EVs."
   ]
  },
  {
   "cell_type": "markdown",
   "id": "f51ededc",
   "metadata": {
    "papermill": {
     "duration": 0.005136,
     "end_time": "2024-09-21T08:52:54.402571",
     "exception": false,
     "start_time": "2024-09-21T08:52:54.397435",
     "status": "completed"
    },
    "tags": []
   },
   "source": [
    "Data Dictionary:\n",
    "ID: A unique identifier assigned to each individual in the study\n",
    "\n",
    "Gender: The gender of the individual, categorized as Male or Female.\n",
    "\n",
    "Age: The age of the individual in years\n",
    "\n",
    "Annual Income: The annual income of the individual\n",
    "\n",
    "Electric Vehicle Adoption: A categorical variable indicating whether the individual owns an electric vehicle (0/1). This is the target variable of the study, helping to identify the proportion of adopters and non-adopters."
   ]
  },
  {
   "cell_type": "code",
   "execution_count": 2,
   "id": "52fa8563",
   "metadata": {
    "execution": {
     "iopub.execute_input": "2024-09-21T08:52:54.451815Z",
     "iopub.status.busy": "2024-09-21T08:52:54.414993Z",
     "iopub.status.idle": "2024-09-21T08:52:54.498648Z",
     "shell.execute_reply": "2024-09-21T08:52:54.496719Z"
    },
    "papermill": {
     "duration": 0.093724,
     "end_time": "2024-09-21T08:52:54.501359",
     "exception": false,
     "start_time": "2024-09-21T08:52:54.407635",
     "status": "completed"
    },
    "tags": []
   },
   "outputs": [
    {
     "data": {
      "text/html": [
       "<table class=\"dataframe\">\n",
       "<caption>A data.frame: 6 × 5</caption>\n",
       "<thead>\n",
       "\t<tr><th></th><th scope=col>ID</th><th scope=col>Gender</th><th scope=col>Age</th><th scope=col>Annual_Income</th><th scope=col>Electric_Vehicle_Adoption</th></tr>\n",
       "\t<tr><th></th><th scope=col>&lt;int&gt;</th><th scope=col>&lt;chr&gt;</th><th scope=col>&lt;int&gt;</th><th scope=col>&lt;int&gt;</th><th scope=col>&lt;int&gt;</th></tr>\n",
       "</thead>\n",
       "<tbody>\n",
       "\t<tr><th scope=row>1</th><td>15624510</td><td>Male  </td><td>19</td><td>19000</td><td>0</td></tr>\n",
       "\t<tr><th scope=row>2</th><td>15810944</td><td>Male  </td><td>35</td><td>20000</td><td>0</td></tr>\n",
       "\t<tr><th scope=row>3</th><td>15668575</td><td>Female</td><td>26</td><td>43000</td><td>0</td></tr>\n",
       "\t<tr><th scope=row>4</th><td>15603246</td><td>Female</td><td>27</td><td>57000</td><td>0</td></tr>\n",
       "\t<tr><th scope=row>5</th><td>15804002</td><td>Male  </td><td>19</td><td>76000</td><td>0</td></tr>\n",
       "\t<tr><th scope=row>6</th><td>15728773</td><td>Male  </td><td>27</td><td>58000</td><td>0</td></tr>\n",
       "</tbody>\n",
       "</table>\n"
      ],
      "text/latex": [
       "A data.frame: 6 × 5\n",
       "\\begin{tabular}{r|lllll}\n",
       "  & ID & Gender & Age & Annual\\_Income & Electric\\_Vehicle\\_Adoption\\\\\n",
       "  & <int> & <chr> & <int> & <int> & <int>\\\\\n",
       "\\hline\n",
       "\t1 & 15624510 & Male   & 19 & 19000 & 0\\\\\n",
       "\t2 & 15810944 & Male   & 35 & 20000 & 0\\\\\n",
       "\t3 & 15668575 & Female & 26 & 43000 & 0\\\\\n",
       "\t4 & 15603246 & Female & 27 & 57000 & 0\\\\\n",
       "\t5 & 15804002 & Male   & 19 & 76000 & 0\\\\\n",
       "\t6 & 15728773 & Male   & 27 & 58000 & 0\\\\\n",
       "\\end{tabular}\n"
      ],
      "text/markdown": [
       "\n",
       "A data.frame: 6 × 5\n",
       "\n",
       "| <!--/--> | ID &lt;int&gt; | Gender &lt;chr&gt; | Age &lt;int&gt; | Annual_Income &lt;int&gt; | Electric_Vehicle_Adoption &lt;int&gt; |\n",
       "|---|---|---|---|---|---|\n",
       "| 1 | 15624510 | Male   | 19 | 19000 | 0 |\n",
       "| 2 | 15810944 | Male   | 35 | 20000 | 0 |\n",
       "| 3 | 15668575 | Female | 26 | 43000 | 0 |\n",
       "| 4 | 15603246 | Female | 27 | 57000 | 0 |\n",
       "| 5 | 15804002 | Male   | 19 | 76000 | 0 |\n",
       "| 6 | 15728773 | Male   | 27 | 58000 | 0 |\n",
       "\n"
      ],
      "text/plain": [
       "  ID       Gender Age Annual_Income Electric_Vehicle_Adoption\n",
       "1 15624510 Male   19  19000         0                        \n",
       "2 15810944 Male   35  20000         0                        \n",
       "3 15668575 Female 26  43000         0                        \n",
       "4 15603246 Female 27  57000         0                        \n",
       "5 15804002 Male   19  76000         0                        \n",
       "6 15728773 Male   27  58000         0                        "
      ]
     },
     "metadata": {},
     "output_type": "display_data"
    }
   ],
   "source": [
    "df <- read.csv(\"/kaggle/input/2c-data/2c-data.csv\")\n",
    "head(df)"
   ]
  },
  {
   "cell_type": "markdown",
   "id": "b78cbedb",
   "metadata": {
    "papermill": {
     "duration": 0.005567,
     "end_time": "2024-09-21T08:52:54.512661",
     "exception": false,
     "start_time": "2024-09-21T08:52:54.507094",
     "status": "completed"
    },
    "tags": []
   },
   "source": [
    "**1)** Fit a logistic regression model to classify the target variable(Electric Vehicle Adoption)<br>\n",
    "Hint: Use glm()        (3 marks)\n"
   ]
  },
  {
   "cell_type": "code",
   "execution_count": 3,
   "id": "ca9ab0ab",
   "metadata": {
    "execution": {
     "iopub.execute_input": "2024-09-21T08:52:54.527813Z",
     "iopub.status.busy": "2024-09-21T08:52:54.526129Z",
     "iopub.status.idle": "2024-09-21T08:52:54.592505Z",
     "shell.execute_reply": "2024-09-21T08:52:54.590075Z"
    },
    "papermill": {
     "duration": 0.07737,
     "end_time": "2024-09-21T08:52:54.595769",
     "exception": false,
     "start_time": "2024-09-21T08:52:54.518399",
     "status": "completed"
    },
    "tags": []
   },
   "outputs": [
    {
     "data": {
      "text/html": [
       "<table class=\"dataframe\">\n",
       "<caption>A data.frame: 6 × 6</caption>\n",
       "<thead>\n",
       "\t<tr><th></th><th scope=col>ID</th><th scope=col>Gender</th><th scope=col>Age</th><th scope=col>Annual_Income</th><th scope=col>Electric_Vehicle_Adoption</th><th scope=col>Gender_numeric</th></tr>\n",
       "\t<tr><th></th><th scope=col>&lt;int&gt;</th><th scope=col>&lt;chr&gt;</th><th scope=col>&lt;int&gt;</th><th scope=col>&lt;int&gt;</th><th scope=col>&lt;int&gt;</th><th scope=col>&lt;dbl&gt;</th></tr>\n",
       "</thead>\n",
       "<tbody>\n",
       "\t<tr><th scope=row>1</th><td>15624510</td><td>Male  </td><td>19</td><td>19000</td><td>0</td><td>0</td></tr>\n",
       "\t<tr><th scope=row>2</th><td>15810944</td><td>Male  </td><td>35</td><td>20000</td><td>0</td><td>0</td></tr>\n",
       "\t<tr><th scope=row>3</th><td>15668575</td><td>Female</td><td>26</td><td>43000</td><td>0</td><td>1</td></tr>\n",
       "\t<tr><th scope=row>4</th><td>15603246</td><td>Female</td><td>27</td><td>57000</td><td>0</td><td>1</td></tr>\n",
       "\t<tr><th scope=row>5</th><td>15804002</td><td>Male  </td><td>19</td><td>76000</td><td>0</td><td>0</td></tr>\n",
       "\t<tr><th scope=row>6</th><td>15728773</td><td>Male  </td><td>27</td><td>58000</td><td>0</td><td>0</td></tr>\n",
       "</tbody>\n",
       "</table>\n"
      ],
      "text/latex": [
       "A data.frame: 6 × 6\n",
       "\\begin{tabular}{r|llllll}\n",
       "  & ID & Gender & Age & Annual\\_Income & Electric\\_Vehicle\\_Adoption & Gender\\_numeric\\\\\n",
       "  & <int> & <chr> & <int> & <int> & <int> & <dbl>\\\\\n",
       "\\hline\n",
       "\t1 & 15624510 & Male   & 19 & 19000 & 0 & 0\\\\\n",
       "\t2 & 15810944 & Male   & 35 & 20000 & 0 & 0\\\\\n",
       "\t3 & 15668575 & Female & 26 & 43000 & 0 & 1\\\\\n",
       "\t4 & 15603246 & Female & 27 & 57000 & 0 & 1\\\\\n",
       "\t5 & 15804002 & Male   & 19 & 76000 & 0 & 0\\\\\n",
       "\t6 & 15728773 & Male   & 27 & 58000 & 0 & 0\\\\\n",
       "\\end{tabular}\n"
      ],
      "text/markdown": [
       "\n",
       "A data.frame: 6 × 6\n",
       "\n",
       "| <!--/--> | ID &lt;int&gt; | Gender &lt;chr&gt; | Age &lt;int&gt; | Annual_Income &lt;int&gt; | Electric_Vehicle_Adoption &lt;int&gt; | Gender_numeric &lt;dbl&gt; |\n",
       "|---|---|---|---|---|---|---|\n",
       "| 1 | 15624510 | Male   | 19 | 19000 | 0 | 0 |\n",
       "| 2 | 15810944 | Male   | 35 | 20000 | 0 | 0 |\n",
       "| 3 | 15668575 | Female | 26 | 43000 | 0 | 1 |\n",
       "| 4 | 15603246 | Female | 27 | 57000 | 0 | 1 |\n",
       "| 5 | 15804002 | Male   | 19 | 76000 | 0 | 0 |\n",
       "| 6 | 15728773 | Male   | 27 | 58000 | 0 | 0 |\n",
       "\n"
      ],
      "text/plain": [
       "  ID       Gender Age Annual_Income Electric_Vehicle_Adoption Gender_numeric\n",
       "1 15624510 Male   19  19000         0                         0             \n",
       "2 15810944 Male   35  20000         0                         0             \n",
       "3 15668575 Female 26  43000         0                         1             \n",
       "4 15603246 Female 27  57000         0                         1             \n",
       "5 15804002 Male   19  76000         0                         0             \n",
       "6 15728773 Male   27  58000         0                         0             "
      ]
     },
     "metadata": {},
     "output_type": "display_data"
    },
    {
     "data": {
      "text/plain": [
       "\n",
       "Call:\n",
       "glm(formula = Electric_Vehicle_Adoption ~ Gender_numeric + Age + \n",
       "    Annual_Income, family = binomial, data = df)\n",
       "\n",
       "Coefficients:\n",
       "                 Estimate Std. Error z value Pr(>|z|)    \n",
       "(Intercept)    -1.245e+01  1.309e+00  -9.510  < 2e-16 ***\n",
       "Gender_numeric -3.338e-01  3.052e-01  -1.094    0.274    \n",
       "Age             2.370e-01  2.638e-02   8.984  < 2e-16 ***\n",
       "Annual_Income   3.644e-05  5.473e-06   6.659 2.77e-11 ***\n",
       "---\n",
       "Signif. codes:  0 ‘***’ 0.001 ‘**’ 0.01 ‘*’ 0.05 ‘.’ 0.1 ‘ ’ 1\n",
       "\n",
       "(Dispersion parameter for binomial family taken to be 1)\n",
       "\n",
       "    Null deviance: 521.57  on 399  degrees of freedom\n",
       "Residual deviance: 275.84  on 396  degrees of freedom\n",
       "AIC: 283.84\n",
       "\n",
       "Number of Fisher Scoring iterations: 6\n"
      ]
     },
     "metadata": {},
     "output_type": "display_data"
    }
   ],
   "source": [
    "##Convert categorical variables (Gender)\n",
    "df$Gender_numeric <- ifelse(df$Gender == \"Male\", 0, 1)\n",
    "head(df)\n",
    "## Write your code here\n",
    "\n",
    "model <- glm(Electric_Vehicle_Adoption ~ Gender_numeric + Age +Annual_Income, family = binomial, data = df)\n",
    " \n",
    "# View the summary of the model\n",
    "summary(model)"
   ]
  },
  {
   "cell_type": "markdown",
   "id": "304f45dd",
   "metadata": {
    "papermill": {
     "duration": 0.005967,
     "end_time": "2024-09-21T08:52:54.607839",
     "exception": false,
     "start_time": "2024-09-21T08:52:54.601872",
     "status": "completed"
    },
    "tags": []
   },
   "source": [
    "**2)** What can u interpret from the summary of the model?         (2 marks)\n",
    "\n",
    "The intercept is negative. Indicating when all the predictor variables are equal to zero, the log-odds of the outcome is negative or a low probability of the event. <br>\n",
    "Gender: The p-value 0.274 indicates that it is not statistcally significant.Hence gender does not have a significant effect on electric vehicle adoption in this model. <br>\n",
    "Age: P-value <2e-16 means it is highly statiscally significant.For every one-year increase in age, the log-odds of adopting an electric vehicle increase by 0.237. This is a significant predictor, implying that older individuals are more likely to adopt electric vehicles.\n",
    "\n",
    "Annual Income: P-value of 2.77e-11 indicates high statiscal significance. As income increases by one unit, the log-odds of adopting an electric vehicle increase slightly, but significantly. Though the effect size is small, income plays an important role in predicting electric vehicle adoption."
   ]
  },
  {
   "cell_type": "markdown",
   "id": "57ea1c14",
   "metadata": {
    "papermill": {
     "duration": 0.0059,
     "end_time": "2024-09-21T08:52:54.619847",
     "exception": false,
     "start_time": "2024-09-21T08:52:54.613947",
     "status": "completed"
    },
    "tags": []
   },
   "source": [
    "**3)** Plot the ROC curve and find the AUC value            (3 marks)"
   ]
  },
  {
   "cell_type": "code",
   "execution_count": 4,
   "id": "f9943e51",
   "metadata": {
    "execution": {
     "iopub.execute_input": "2024-09-21T08:52:54.635608Z",
     "iopub.status.busy": "2024-09-21T08:52:54.633906Z",
     "iopub.status.idle": "2024-09-21T08:52:54.700571Z",
     "shell.execute_reply": "2024-09-21T08:52:54.698564Z"
    },
    "papermill": {
     "duration": 0.07768,
     "end_time": "2024-09-21T08:52:54.703441",
     "exception": false,
     "start_time": "2024-09-21T08:52:54.625761",
     "status": "completed"
    },
    "tags": []
   },
   "outputs": [],
   "source": [
    "if (!requireNamespace(\"ROCR\", quietly = TRUE)) {\n",
    "    install.packages(\"ROCR\")\n",
    "}"
   ]
  },
  {
   "cell_type": "code",
   "execution_count": 5,
   "id": "376995ad",
   "metadata": {
    "execution": {
     "iopub.execute_input": "2024-09-21T08:52:54.719670Z",
     "iopub.status.busy": "2024-09-21T08:52:54.717922Z",
     "iopub.status.idle": "2024-09-21T08:52:55.048350Z",
     "shell.execute_reply": "2024-09-21T08:52:55.046309Z"
    },
    "papermill": {
     "duration": 0.341209,
     "end_time": "2024-09-21T08:52:55.050899",
     "exception": false,
     "start_time": "2024-09-21T08:52:54.709690",
     "status": "completed"
    },
    "tags": []
   },
   "outputs": [
    {
     "data": {
      "image/png": "[encoded data removed]"
     },
     "metadata": {
      "image/png": {
       "height": 420,
       "width": 420
      }
     },
     "output_type": "display_data"
    }
   ],
   "source": [
    "\n",
    "library(ROCR)\n",
    "# Make predictions on the dataset\n",
    "predictions <- predict(model, type = \"response\")\n",
    " \n",
    "# Create a prediction object for ROCR\n",
    "prediction_objects <- prediction(predictions,df$Electric_Vehicle_Adoption)\n",
    " \n",
    "# Create an ROC curve object\n",
    "roc_object <- performance(prediction_objects, measure = \"tpr\", x.measure = \"fpr\")\n",
    " \n",
    "# Plot the ROC curve\n",
    "plot(roc_object, main = \"ROC Curve\", col = \"blue\", lwd = 2)\n",
    " \n",
    "# Add labels and a legend to the plot\n",
    "auc <- performance(prediction_objects, measure = \"auc\")\n",
    "auc_value <- auc@y.values[[1]]\n",
    "\n",
    "# Add labels and a legend to the plot\n",
    "legend(\"bottomleft\",legend = paste(\"AUC =\", round(auc_value, 2)), col = \"blue\", lwd = 2)"
   ]
  },
  {
   "cell_type": "markdown",
   "id": "2ef4bd86",
   "metadata": {
    "papermill": {
     "duration": 0.006853,
     "end_time": "2024-09-21T08:52:55.064593",
     "exception": false,
     "start_time": "2024-09-21T08:52:55.057740",
     "status": "completed"
    },
    "tags": []
   },
   "source": [
    "**4)** What can you interpret from the ROC curve and AUC value?    (2 marks)"
   ]
  },
  {
   "cell_type": "markdown",
   "id": "832c3fbc",
   "metadata": {
    "papermill": {
     "duration": 0.006893,
     "end_time": "2024-09-21T08:52:55.078414",
     "exception": false,
     "start_time": "2024-09-21T08:52:55.071521",
     "status": "completed"
    },
    "tags": []
   },
   "source": [
    "This ROC curve shows that the classifier being evaluated has very good discriminative ability, as indicated by the high AUC value and the shape of the curve that approaches the top-left corner of the plot."
   ]
  },
  {
   "cell_type": "markdown",
   "id": "ebe8616a",
   "metadata": {
    "papermill": {
     "duration": 0.006903,
     "end_time": "2024-09-21T08:52:55.092134",
     "exception": false,
     "start_time": "2024-09-21T08:52:55.085231",
     "status": "completed"
    },
    "tags": []
   },
   "source": [
    "# **Good job with the analysis!**\n"
   ]
  }
 ],
 "metadata": {
  "kaggle": {
   "accelerator": "none",
   "dataSources": [
    {
     "datasetId": 5614577,
     "sourceId": 9276633,
     "sourceType": "datasetVersion"
    }
   ],
   "dockerImageVersionId": 30749,
   "isGpuEnabled": false,
   "isInternetEnabled": true,
   "language": "r",
   "sourceType": "notebook"
  },
  "kernelspec": {
   "display_name": "R",
   "language": "R",
   "name": "ir"
  },
  "language_info": {
   "codemirror_mode": "r",
   "file_extension": ".r",
   "mimetype": "text/x-r-source",
   "name": "R",
   "pygments_lexer": "r",
   "version": "4.4.0"
  },
  "papermill": {
   "default_parameters": {},
   "duration": 5.384365,
   "end_time": "2024-09-21T08:52:55.221038",
   "environment_variables": {},
   "exception": null,
   "input_path": "__notebook__.ipynb",
   "output_path": "__notebook__.ipynb",
   "parameters": {},
   "start_time": "2024-09-21T08:52:49.836673",
   "version": "2.6.0"
  }
 },
 "nbformat": 4,
 "nbformat_minor": 5
}
