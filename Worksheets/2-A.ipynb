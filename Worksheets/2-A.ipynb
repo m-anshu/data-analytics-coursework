{
 "cells": [
  {
   "cell_type": "code",
   "execution_count": 1,
   "id": "103c8a79",
   "metadata": {
    "_execution_state": "idle",
    "_uuid": "051d70d956493feee0c6d64651c6a088724dca2a",
    "execution": {
     "iopub.execute_input": "2024-09-20T20:57:08.496379Z",
     "iopub.status.busy": "2024-09-20T20:57:08.493810Z",
     "iopub.status.idle": "2024-09-20T20:57:09.859178Z",
     "shell.execute_reply": "2024-09-20T20:57:09.857235Z"
    },
    "papermill": {
     "duration": 1.377331,
     "end_time": "2024-09-20T20:57:09.862040",
     "exception": false,
     "start_time": "2024-09-20T20:57:08.484709",
     "status": "completed"
    },
    "tags": []
   },
   "outputs": [
    {
     "name": "stderr",
     "output_type": "stream",
     "text": [
      "── \u001b[1mAttaching core tidyverse packages\u001b[22m ──────────────────────── tidyverse 2.0.0 ──\n",
      "\u001b[32m✔\u001b[39m \u001b[34mdplyr    \u001b[39m 1.1.4     \u001b[32m✔\u001b[39m \u001b[34mreadr    \u001b[39m 2.1.5\n",
      "\u001b[32m✔\u001b[39m \u001b[34mforcats  \u001b[39m 1.0.0     \u001b[32m✔\u001b[39m \u001b[34mstringr  \u001b[39m 1.5.1\n",
      "\u001b[32m✔\u001b[39m \u001b[34mggplot2  \u001b[39m 3.5.1     \u001b[32m✔\u001b[39m \u001b[34mtibble   \u001b[39m 3.2.1\n",
      "\u001b[32m✔\u001b[39m \u001b[34mlubridate\u001b[39m 1.9.3     \u001b[32m✔\u001b[39m \u001b[34mtidyr    \u001b[39m 1.3.1\n",
      "\u001b[32m✔\u001b[39m \u001b[34mpurrr    \u001b[39m 1.0.2     \n"
     ]
    },
    {
     "name": "stderr",
     "output_type": "stream",
     "text": [
      "── \u001b[1mConflicts\u001b[22m ────────────────────────────────────────── tidyverse_conflicts() ──\n",
      "\u001b[31m✖\u001b[39m \u001b[34mdplyr\u001b[39m::\u001b[32mfilter()\u001b[39m masks \u001b[34mstats\u001b[39m::filter()\n",
      "\u001b[31m✖\u001b[39m \u001b[34mdplyr\u001b[39m::\u001b[32mlag()\u001b[39m    masks \u001b[34mstats\u001b[39m::lag()\n",
      "\u001b[36mℹ\u001b[39m Use the conflicted package (\u001b[3m\u001b[34m<http://conflicted.r-lib.org/>\u001b[39m\u001b[23m) to force all conflicts to become errors\n"
     ]
    },
    {
     "data": {
      "text/html": [
       "'2b-data'"
      ],
      "text/latex": [
       "'2b-data'"
      ],
      "text/markdown": [
       "'2b-data'"
      ],
      "text/plain": [
       "[1] \"2b-data\""
      ]
     },
     "metadata": {},
     "output_type": "display_data"
    }
   ],
   "source": [
    "# This R environment comes with many helpful analytics packages installed\n",
    "# It is defined by the kaggle/rstats Docker image: https://github.com/kaggle/docker-rstats\n",
    "# For example, here's a helpful package to load\n",
    "\n",
    "library(tidyverse) # metapackage of all tidyverse packages\n",
    "\n",
    "# Input data files are available in the read-only \"../input/\" directory\n",
    "# For example, running this (by clicking run or pressing Shift+Enter) will list all files under the input directory\n",
    "\n",
    "list.files(path = \"../input\")\n",
    "\n",
    "# You can write up to 20GB to the current directory (/kaggle/working/) that gets preserved as output when you create a version using \"Save & Run All\" \n",
    "# You can also write temporary files to /kaggle/temp/, but they won't be saved outside of the current session"
   ]
  },
  {
   "cell_type": "markdown",
   "id": "1ed8fc5c",
   "metadata": {
    "papermill": {
     "duration": 0.006785,
     "end_time": "2024-09-20T20:57:09.875525",
     "exception": false,
     "start_time": "2024-09-20T20:57:09.868740",
     "status": "completed"
    },
    "tags": []
   },
   "source": [
    " # Overfitting and Regularization\n",
    "\n",
    "In the realm of predictive modeling, the pursuit of creating a model that perfectly fits the training data can inadvertently lead to a phenomenon known as overfitting. Overfitting occurs when a model becomes excessively complex, capturing not only the genuine patterns within the data but also the noise and random fluctuations present in the training set. \n",
    "\n",
    "The hyper-adaptation to the training data renders the model less capable of generalizing to new, unseen data, as it effectively memorizes the training examples rather than discerning meaningful relationships. As a result, an overfitted model may exhibit impressive performance on the training data but performs poorly when faced with real-world scenarios. The delicate balance between capturing essential patterns and avoiding the trap of overfitting underscores the importance of techniques like regularization, which aim to ensure model generalization by restraining excessive complexity.\n",
    "\n",
    "There are three Regularization techniques we will be dealing with, all of which use the idea of penalizing terms to tackle overfitting.\n",
    "\n",
    "But before we go any further, let's have a look at the data."
   ]
  },
  {
   "cell_type": "markdown",
   "id": "c29f0ce1",
   "metadata": {
    "papermill": {
     "duration": 0.006475,
     "end_time": "2024-09-20T20:57:09.888653",
     "exception": false,
     "start_time": "2024-09-20T20:57:09.882178",
     "status": "completed"
    },
    "tags": []
   },
   "source": [
    "**Data Dictionary**\n",
    "\n",
    "* Product_ID:- Unique identifier for each electronic device. <br>\n",
    "* Product_Weight:- Weight of the device  <br>\n",
    "* Energy_Efficiency:- Energy efficiency rating (e.g., \"Energy Efficient\", \"Standard\"). <br>\n",
    "* Visibility_Index:- The % of the total display area of all products in a store allocated to the particular product <br>\n",
    "* Product_Category:- Category of the electronic device (e.g., \"Laptops\", \"Smartphones\"). <br>\n",
    "* Product_Price:- Price of the device in dollars<br>\n",
    "* Store_ID:- Unique identifier for the store.<br>\n",
    "* Store_Established_Year:- Number of years since the store was established.<br>\n",
    "* Store_Size:- Size classification of the store (e.g., \"Small\", \"Medium\").<br>\n",
    "* Location_Type:- The type of city in which the store is located<br>\n",
    "* Store_Type:- Type of store (e.g., \"Electronics Store Type1\").<br>\n",
    "* Sales_Performance:- Sales of the electronic device in the particular store. This is the outcome variable to be predicted.\n"
   ]
  },
  {
   "cell_type": "markdown",
   "id": "90c88d41",
   "metadata": {
    "papermill": {
     "duration": 0.006413,
     "end_time": "2024-09-20T20:57:09.901663",
     "exception": false,
     "start_time": "2024-09-20T20:57:09.895250",
     "status": "completed"
    },
    "tags": []
   },
   "source": [
    "## Visualizing the data\n",
    "\n",
    "Let's visualize this all in the form of a Data Frame"
   ]
  },
  {
   "cell_type": "code",
   "execution_count": 2,
   "id": "bd31d245",
   "metadata": {
    "execution": {
     "iopub.execute_input": "2024-09-20T20:57:09.951392Z",
     "iopub.status.busy": "2024-09-20T20:57:09.916643Z",
     "iopub.status.idle": "2024-09-20T20:57:10.057073Z",
     "shell.execute_reply": "2024-09-20T20:57:10.054292Z"
    },
    "papermill": {
     "duration": 0.152202,
     "end_time": "2024-09-20T20:57:10.060416",
     "exception": false,
     "start_time": "2024-09-20T20:57:09.908214",
     "status": "completed"
    },
    "tags": []
   },
   "outputs": [
    {
     "data": {
      "text/html": [
       "<table class=\"dataframe\">\n",
       "<caption>A data.frame: 6 × 12</caption>\n",
       "<thead>\n",
       "\t<tr><th></th><th scope=col>Product_ID</th><th scope=col>Product_Weight</th><th scope=col>Energy_Efficiency</th><th scope=col>Visibility_Index</th><th scope=col>Product_Category</th><th scope=col>Product_Price</th><th scope=col>Store_ID</th><th scope=col>Store_Established_Year</th><th scope=col>Store_Size</th><th scope=col>Location_Type</th><th scope=col>Store_Type</th><th scope=col>Sales_Performance</th></tr>\n",
       "\t<tr><th></th><th scope=col>&lt;chr&gt;</th><th scope=col>&lt;dbl&gt;</th><th scope=col>&lt;chr&gt;</th><th scope=col>&lt;dbl&gt;</th><th scope=col>&lt;chr&gt;</th><th scope=col>&lt;dbl&gt;</th><th scope=col>&lt;chr&gt;</th><th scope=col>&lt;int&gt;</th><th scope=col>&lt;chr&gt;</th><th scope=col>&lt;chr&gt;</th><th scope=col>&lt;chr&gt;</th><th scope=col>&lt;dbl&gt;</th></tr>\n",
       "</thead>\n",
       "<tbody>\n",
       "\t<tr><th scope=row>1</th><td>FDA15</td><td> 9.300</td><td>Energy Efficient</td><td>0.01604730</td><td>Laptops      </td><td>249.8092</td><td>OUT049</td><td>14</td><td>Medium</td><td>Tier 1</td><td>Electronics Store Type1 </td><td>3735.1380</td></tr>\n",
       "\t<tr><th scope=row>2</th><td>DRC01</td><td> 5.920</td><td>Standard        </td><td>0.01927822</td><td>Smartphones  </td><td> 48.2692</td><td>OUT018</td><td> 4</td><td>Medium</td><td>Tier 3</td><td>Electronics Store Type2 </td><td> 443.4228</td></tr>\n",
       "\t<tr><th scope=row>3</th><td>FDN15</td><td>17.500</td><td>Energy Efficient</td><td>0.01676007</td><td>Tablets      </td><td>141.6180</td><td>OUT049</td><td>14</td><td>Medium</td><td>Tier 1</td><td>Electronics Store Type1 </td><td>2097.2700</td></tr>\n",
       "\t<tr><th scope=row>4</th><td>FDX07</td><td>19.200</td><td>Standard        </td><td>0.06613203</td><td>Monitors     </td><td>182.0950</td><td>OUT010</td><td>15</td><td>Small </td><td>Tier 3</td><td>Retail Electronics Store</td><td> 732.3800</td></tr>\n",
       "\t<tr><th scope=row>5</th><td>NCD19</td><td> 8.930</td><td>Energy Efficient</td><td>0.06613203</td><td>Refrigerators</td><td> 53.8614</td><td>OUT013</td><td>26</td><td>High  </td><td>Tier 3</td><td>Electronics Store Type1 </td><td> 994.7052</td></tr>\n",
       "\t<tr><th scope=row>6</th><td>FDP36</td><td>10.395</td><td>Standard        </td><td>0.06613203</td><td>Microwaves   </td><td> 51.4008</td><td>OUT018</td><td> 4</td><td>Medium</td><td>Tier 3</td><td>Electronics Store Type2 </td><td> 556.6088</td></tr>\n",
       "</tbody>\n",
       "</table>\n"
      ],
      "text/latex": [
       "A data.frame: 6 × 12\n",
       "\\begin{tabular}{r|llllllllllll}\n",
       "  & Product\\_ID & Product\\_Weight & Energy\\_Efficiency & Visibility\\_Index & Product\\_Category & Product\\_Price & Store\\_ID & Store\\_Established\\_Year & Store\\_Size & Location\\_Type & Store\\_Type & Sales\\_Performance\\\\\n",
       "  & <chr> & <dbl> & <chr> & <dbl> & <chr> & <dbl> & <chr> & <int> & <chr> & <chr> & <chr> & <dbl>\\\\\n",
       "\\hline\n",
       "\t1 & FDA15 &  9.300 & Energy Efficient & 0.01604730 & Laptops       & 249.8092 & OUT049 & 14 & Medium & Tier 1 & Electronics Store Type1  & 3735.1380\\\\\n",
       "\t2 & DRC01 &  5.920 & Standard         & 0.01927822 & Smartphones   &  48.2692 & OUT018 &  4 & Medium & Tier 3 & Electronics Store Type2  &  443.4228\\\\\n",
       "\t3 & FDN15 & 17.500 & Energy Efficient & 0.01676007 & Tablets       & 141.6180 & OUT049 & 14 & Medium & Tier 1 & Electronics Store Type1  & 2097.2700\\\\\n",
       "\t4 & FDX07 & 19.200 & Standard         & 0.06613203 & Monitors      & 182.0950 & OUT010 & 15 & Small  & Tier 3 & Retail Electronics Store &  732.3800\\\\\n",
       "\t5 & NCD19 &  8.930 & Energy Efficient & 0.06613203 & Refrigerators &  53.8614 & OUT013 & 26 & High   & Tier 3 & Electronics Store Type1  &  994.7052\\\\\n",
       "\t6 & FDP36 & 10.395 & Standard         & 0.06613203 & Microwaves    &  51.4008 & OUT018 &  4 & Medium & Tier 3 & Electronics Store Type2  &  556.6088\\\\\n",
       "\\end{tabular}\n"
      ],
      "text/markdown": [
       "\n",
       "A data.frame: 6 × 12\n",
       "\n",
       "| <!--/--> | Product_ID &lt;chr&gt; | Product_Weight &lt;dbl&gt; | Energy_Efficiency &lt;chr&gt; | Visibility_Index &lt;dbl&gt; | Product_Category &lt;chr&gt; | Product_Price &lt;dbl&gt; | Store_ID &lt;chr&gt; | Store_Established_Year &lt;int&gt; | Store_Size &lt;chr&gt; | Location_Type &lt;chr&gt; | Store_Type &lt;chr&gt; | Sales_Performance &lt;dbl&gt; |\n",
       "|---|---|---|---|---|---|---|---|---|---|---|---|---|\n",
       "| 1 | FDA15 |  9.300 | Energy Efficient | 0.01604730 | Laptops       | 249.8092 | OUT049 | 14 | Medium | Tier 1 | Electronics Store Type1  | 3735.1380 |\n",
       "| 2 | DRC01 |  5.920 | Standard         | 0.01927822 | Smartphones   |  48.2692 | OUT018 |  4 | Medium | Tier 3 | Electronics Store Type2  |  443.4228 |\n",
       "| 3 | FDN15 | 17.500 | Energy Efficient | 0.01676007 | Tablets       | 141.6180 | OUT049 | 14 | Medium | Tier 1 | Electronics Store Type1  | 2097.2700 |\n",
       "| 4 | FDX07 | 19.200 | Standard         | 0.06613203 | Monitors      | 182.0950 | OUT010 | 15 | Small  | Tier 3 | Retail Electronics Store |  732.3800 |\n",
       "| 5 | NCD19 |  8.930 | Energy Efficient | 0.06613203 | Refrigerators |  53.8614 | OUT013 | 26 | High   | Tier 3 | Electronics Store Type1  |  994.7052 |\n",
       "| 6 | FDP36 | 10.395 | Standard         | 0.06613203 | Microwaves    |  51.4008 | OUT018 |  4 | Medium | Tier 3 | Electronics Store Type2  |  556.6088 |\n",
       "\n"
      ],
      "text/plain": [
       "  Product_ID Product_Weight Energy_Efficiency Visibility_Index Product_Category\n",
       "1 FDA15       9.300         Energy Efficient  0.01604730       Laptops         \n",
       "2 DRC01       5.920         Standard          0.01927822       Smartphones     \n",
       "3 FDN15      17.500         Energy Efficient  0.01676007       Tablets         \n",
       "4 FDX07      19.200         Standard          0.06613203       Monitors        \n",
       "5 NCD19       8.930         Energy Efficient  0.06613203       Refrigerators   \n",
       "6 FDP36      10.395         Standard          0.06613203       Microwaves      \n",
       "  Product_Price Store_ID Store_Established_Year Store_Size Location_Type\n",
       "1 249.8092      OUT049   14                     Medium     Tier 1       \n",
       "2  48.2692      OUT018    4                     Medium     Tier 3       \n",
       "3 141.6180      OUT049   14                     Medium     Tier 1       \n",
       "4 182.0950      OUT010   15                     Small      Tier 3       \n",
       "5  53.8614      OUT013   26                     High       Tier 3       \n",
       "6  51.4008      OUT018    4                     Medium     Tier 3       \n",
       "  Store_Type               Sales_Performance\n",
       "1 Electronics Store Type1  3735.1380        \n",
       "2 Electronics Store Type2   443.4228        \n",
       "3 Electronics Store Type1  2097.2700        \n",
       "4 Retail Electronics Store  732.3800        \n",
       "5 Electronics Store Type1   994.7052        \n",
       "6 Electronics Store Type2   556.6088        "
      ]
     },
     "metadata": {},
     "output_type": "display_data"
    }
   ],
   "source": [
    "data <- read.csv(\"/kaggle/input/2b-data/2b-data.csv\")\n",
    "head(data)\n"
   ]
  },
  {
   "cell_type": "markdown",
   "id": "f97f7315",
   "metadata": {
    "papermill": {
     "duration": 0.007021,
     "end_time": "2024-09-20T20:57:10.074319",
     "exception": false,
     "start_time": "2024-09-20T20:57:10.067298",
     "status": "completed"
    },
    "tags": []
   },
   "source": [
    "## Ridge Regression\n",
    "Ridge regression is a linear regression technique that incorporates L2 regularization to address issues in predictive modeling (overfitting, multi-colinearity etc).\n",
    "Linear regression, aims to minimize the sum of squared residuals whereas Ridge regression introduces a penalty term proportional to the square of the magnitude of the coefficients. This penalty, controlled by a hyperparameter (often denoted as lambda), discourages large coefficient values, effectively constraining the model’s complexity, enhancing its stability and generalization performance.\n"
   ]
  },
  {
   "cell_type": "markdown",
   "id": "1bd58f9c",
   "metadata": {
    "papermill": {
     "duration": 0.006823,
     "end_time": "2024-09-20T20:57:10.088706",
     "exception": false,
     "start_time": "2024-09-20T20:57:10.081883",
     "status": "completed"
    },
    "tags": []
   },
   "source": [
    "**1)** Perform Ridge Regression on the training data and compare the predictions with the test data to check for the fit of the model. (Hint: Use the glmnet library) (2 marks) <br>\n",
    "You can split the dataset into 70% train and 30% test.  "
   ]
  },
  {
   "cell_type": "code",
   "execution_count": 3,
   "id": "aebf92d4",
   "metadata": {
    "execution": {
     "iopub.execute_input": "2024-09-20T20:57:10.107155Z",
     "iopub.status.busy": "2024-09-20T20:57:10.105201Z",
     "iopub.status.idle": "2024-09-20T20:57:11.623637Z",
     "shell.execute_reply": "2024-09-20T20:57:11.621773Z"
    },
    "papermill": {
     "duration": 1.530862,
     "end_time": "2024-09-20T20:57:11.627011",
     "exception": false,
     "start_time": "2024-09-20T20:57:10.096149",
     "status": "completed"
    },
    "tags": []
   },
   "outputs": [
    {
     "name": "stderr",
     "output_type": "stream",
     "text": [
      "Loading required package: Matrix\n",
      "\n"
     ]
    },
    {
     "name": "stderr",
     "output_type": "stream",
     "text": [
      "\n",
      "Attaching package: ‘Matrix’\n",
      "\n",
      "\n"
     ]
    },
    {
     "name": "stderr",
     "output_type": "stream",
     "text": [
      "The following objects are masked from ‘package:tidyr’:\n",
      "\n",
      "    expand, pack, unpack\n",
      "\n",
      "\n"
     ]
    },
    {
     "name": "stderr",
     "output_type": "stream",
     "text": [
      "Loaded glmnet 4.1-8\n",
      "\n"
     ]
    }
   ],
   "source": [
    "##Write your code here\n",
    "if (!requireNamespace(\"glmnet\", quietly = TRUE)) {\n",
    "    install.packages(\"glmnet\")\n",
    "}\n",
    "library(glmnet)\n"
   ]
  },
  {
   "cell_type": "code",
   "execution_count": 4,
   "id": "bfa7df69",
   "metadata": {
    "execution": {
     "iopub.execute_input": "2024-09-20T20:57:11.646341Z",
     "iopub.status.busy": "2024-09-20T20:57:11.643973Z",
     "iopub.status.idle": "2024-09-20T20:57:11.680648Z",
     "shell.execute_reply": "2024-09-20T20:57:11.678802Z"
    },
    "papermill": {
     "duration": 0.049429,
     "end_time": "2024-09-20T20:57:11.684175",
     "exception": false,
     "start_time": "2024-09-20T20:57:11.634746",
     "status": "completed"
    },
    "tags": []
   },
   "outputs": [],
   "source": [
    "train<-data[c(-1,-7)]\n",
    "Y<-train[c(10)]\n",
    "X <- model.matrix(Sales_Performance~., train)[, -1]\n",
    "\n"
   ]
  },
  {
   "cell_type": "code",
   "execution_count": 5,
   "id": "a1b09806",
   "metadata": {
    "execution": {
     "iopub.execute_input": "2024-09-20T20:57:11.704854Z",
     "iopub.status.busy": "2024-09-20T20:57:11.702478Z",
     "iopub.status.idle": "2024-09-20T20:57:11.732970Z",
     "shell.execute_reply": "2024-09-20T20:57:11.731153Z"
    },
    "papermill": {
     "duration": 0.044385,
     "end_time": "2024-09-20T20:57:11.736324",
     "exception": false,
     "start_time": "2024-09-20T20:57:11.691939",
     "status": "completed"
    },
    "tags": []
   },
   "outputs": [],
   "source": [
    "set.seed(567)\n",
    "part <- sample(2, nrow(X), replace = TRUE, prob = c(0.7, 0.3))\n",
    "X_train<- X[part == 1,]\n",
    "X_cv<- X[part == 2,]\n",
    "\n",
    "Y_train<- Y[part == 1,]\n",
    "Y_cv<- Y[part == 2,]"
   ]
  },
  {
   "cell_type": "code",
   "execution_count": 6,
   "id": "e4b19e59",
   "metadata": {
    "execution": {
     "iopub.execute_input": "2024-09-20T20:57:11.754363Z",
     "iopub.status.busy": "2024-09-20T20:57:11.752674Z",
     "iopub.status.idle": "2024-09-20T20:57:11.793432Z",
     "shell.execute_reply": "2024-09-20T20:57:11.791525Z"
    },
    "papermill": {
     "duration": 0.053505,
     "end_time": "2024-09-20T20:57:11.796954",
     "exception": false,
     "start_time": "2024-09-20T20:57:11.743449",
     "status": "completed"
    },
    "tags": []
   },
   "outputs": [],
   "source": [
    "ridge_reg <- glmnet(X_train, Y_train, alpha = 0)"
   ]
  },
  {
   "cell_type": "markdown",
   "id": "e0d0965d",
   "metadata": {
    "papermill": {
     "duration": 0.007071,
     "end_time": "2024-09-20T20:57:11.811689",
     "exception": false,
     "start_time": "2024-09-20T20:57:11.804618",
     "status": "completed"
    },
    "tags": []
   },
   "source": [
    "**2)** Is it possible for you to somehow conduct hyperparameter tuning and find the best lambda value for the Ridge Regression model? (Hint: use the cv.glmnet function)   (1 mark)"
   ]
  },
  {
   "cell_type": "code",
   "execution_count": 7,
   "id": "2d46b455",
   "metadata": {
    "execution": {
     "iopub.execute_input": "2024-09-20T20:57:11.830009Z",
     "iopub.status.busy": "2024-09-20T20:57:11.828320Z",
     "iopub.status.idle": "2024-09-20T20:57:12.401524Z",
     "shell.execute_reply": "2024-09-20T20:57:12.399084Z"
    },
    "papermill": {
     "duration": 0.585905,
     "end_time": "2024-09-20T20:57:12.404928",
     "exception": false,
     "start_time": "2024-09-20T20:57:11.819023",
     "status": "completed"
    },
    "tags": []
   },
   "outputs": [
    {
     "name": "stdout",
     "output_type": "stream",
     "text": [
      "[1] 98.68757\n"
     ]
    }
   ],
   "source": [
    "# Find the best lambda via cross-validation\n",
    "ridge_reg1 <- cv.glmnet(X_train, Y_train, alpha = 0)\n",
    "\n",
    "bestlam <- ridge_reg1$lambda.min\n",
    "print(bestlam)"
   ]
  },
  {
   "cell_type": "code",
   "execution_count": 8,
   "id": "ed5dcb6e",
   "metadata": {
    "execution": {
     "iopub.execute_input": "2024-09-20T20:57:12.423169Z",
     "iopub.status.busy": "2024-09-20T20:57:12.421480Z",
     "iopub.status.idle": "2024-09-20T20:57:12.440488Z",
     "shell.execute_reply": "2024-09-20T20:57:12.438689Z"
    },
    "papermill": {
     "duration": 0.031769,
     "end_time": "2024-09-20T20:57:12.443909",
     "exception": false,
     "start_time": "2024-09-20T20:57:12.412140",
     "status": "completed"
    },
    "tags": []
   },
   "outputs": [],
   "source": [
    "# Predict using the best lambda\n",
    "ridge.pred <- predict(ridge_reg, s = bestlam, newx = X_cv)"
   ]
  },
  {
   "cell_type": "markdown",
   "id": "863f1052",
   "metadata": {
    "papermill": {
     "duration": 0.007108,
     "end_time": "2024-09-20T20:57:12.458770",
     "exception": false,
     "start_time": "2024-09-20T20:57:12.451662",
     "status": "completed"
    },
    "tags": []
   },
   "source": [
    "**3)** With the optimal lambda, build the model again and print the coefficients of the various independent variables. What can you comment about the relationship between lambda and the strength of regularization?        (2 marks)\n"
   ]
  },
  {
   "cell_type": "code",
   "execution_count": 9,
   "id": "cfba6817",
   "metadata": {
    "execution": {
     "iopub.execute_input": "2024-09-20T20:57:12.477078Z",
     "iopub.status.busy": "2024-09-20T20:57:12.475474Z",
     "iopub.status.idle": "2024-09-20T20:57:12.513430Z",
     "shell.execute_reply": "2024-09-20T20:57:12.510949Z"
    },
    "papermill": {
     "duration": 0.050853,
     "end_time": "2024-09-20T20:57:12.516663",
     "exception": false,
     "start_time": "2024-09-20T20:57:12.465810",
     "status": "completed"
    },
    "tags": []
   },
   "outputs": [
    {
     "name": "stdout",
     "output_type": "stream",
     "text": [
      "[1] \"Coefficients of the Ridge Regression Model:\"\n"
     ]
    },
    {
     "name": "stdout",
     "output_type": "stream",
     "text": [
      "28 x 1 sparse Matrix of class \"dgCMatrix\"\n",
      "                                                    s0\n",
      "(Intercept)                                 189.995530\n",
      "Product_Weight                               -2.020927\n",
      "Energy_EfficiencyStandard                    39.549175\n",
      "Visibility_Index                           -619.146188\n",
      "Product_CategoryCameras                      34.695765\n",
      "Product_CategoryHeadphones                   80.149754\n",
      "Product_CategoryHome Theater Systems        118.185029\n",
      "Product_CategoryKeyboards                    45.863053\n",
      "Product_CategoryLaptops                      50.553944\n",
      "Product_CategoryMicrowaves                   52.866816\n",
      "Product_CategoryMiscellaneous Electronics   -56.398372\n",
      "Product_CategoryMonitors                     47.216039\n",
      "Product_CategoryMouse                        89.121489\n",
      "Product_CategoryPrinters                     82.709920\n",
      "Product_CategoryRefrigerators                -3.091872\n",
      "Product_CategorySmartphones                 -23.841540\n",
      "Product_CategorySpeakers                     55.169707\n",
      "Product_CategoryTablets                       1.242073\n",
      "Product_CategoryWashing Machines            -14.881778\n",
      "Product_Price                                14.953485\n",
      "Store_Established_Year                        1.039123\n",
      "Store_SizeMedium                             98.792800\n",
      "Store_SizeSmall                             -84.749514\n",
      "Location_TypeTier 2                         137.726141\n",
      "Location_TypeTier 3                         -24.581958\n",
      "Store_TypeElectronics Store Type2          -324.071210\n",
      "Store_TypeRetail Electronics Store        -1715.266368\n",
      "Store_TypeSpecialty Electronics Store      1235.051333\n"
     ]
    }
   ],
   "source": [
    "# Rebuild the Ridge Regression model using the optimal lambda\n",
    "ridge_final <- glmnet(X_train, Y_train, alpha = 0, lambda = bestlam)\n",
    "\n",
    "# Extract and print the coefficients of the Ridge Regression model\n",
    "ridge_coef <- coef(ridge_final)\n",
    "print(\"Coefficients of the Ridge Regression Model:\")\n",
    "print(ridge_coef)\n"
   ]
  },
  {
   "cell_type": "markdown",
   "id": "f0c546e4",
   "metadata": {
    "papermill": {
     "duration": 0.007366,
     "end_time": "2024-09-20T20:57:12.531770",
     "exception": false,
     "start_time": "2024-09-20T20:57:12.524404",
     "status": "completed"
    },
    "tags": []
   },
   "source": [
    "\n",
    "Small Lambda: Minimal regularization; coefficients closer to those of ordinary least squares; risk of overfitting.\n",
    "Large Lambda: Strong regularization; coefficients shrink towards zero; reduces overfitting but may lead to underfitting if too large."
   ]
  },
  {
   "cell_type": "markdown",
   "id": "aaf8d4cf",
   "metadata": {
    "papermill": {
     "duration": 0.007392,
     "end_time": "2024-09-20T20:57:12.546427",
     "exception": false,
     "start_time": "2024-09-20T20:57:12.539035",
     "status": "completed"
    },
    "tags": []
   },
   "source": [
    "## Lasso Regression\n",
    "\n",
    "Lasso regression is similar to Ridge Regression except that instead of L2 regularization, it employs L1 regularization to address the very same issues that Ridge Regression addresses. \n",
    "\n",
    "There are however, a couple of differences between the two. The first and most obvious being that since Lasso Regression implements L1 regularization, the penalty term in this case is proportional to the absolute value of the coefficient. \n",
    "\n",
    "Another point to note is that unlike its Ridge counterpart, Lasso Regression can push some coefficients to exactly 0. This effectively drops the feature from the predictive model (Similar to how we drop values through visual analysis). Lasso Regression can thus be used effectively for Feature Selection as well."
   ]
  },
  {
   "cell_type": "markdown",
   "id": "26aac167",
   "metadata": {
    "papermill": {
     "duration": 0.007402,
     "end_time": "2024-09-20T20:57:12.561322",
     "exception": false,
     "start_time": "2024-09-20T20:57:12.553920",
     "status": "completed"
    },
    "tags": []
   },
   "source": [
    "**1)** Write code to build a Lasso Regression model similar to how you built the Ridge Regression model. This time incorporate hyperparameter tuning right away. So first print the optimal lambda value.                  (2 marks)"
   ]
  },
  {
   "cell_type": "code",
   "execution_count": 10,
   "id": "41c00d23",
   "metadata": {
    "execution": {
     "iopub.execute_input": "2024-09-20T20:57:12.579832Z",
     "iopub.status.busy": "2024-09-20T20:57:12.578220Z",
     "iopub.status.idle": "2024-09-20T20:57:13.041032Z",
     "shell.execute_reply": "2024-09-20T20:57:13.038697Z"
    },
    "papermill": {
     "duration": 0.475568,
     "end_time": "2024-09-20T20:57:13.044267",
     "exception": false,
     "start_time": "2024-09-20T20:57:12.568699",
     "status": "completed"
    },
    "tags": []
   },
   "outputs": [
    {
     "name": "stdout",
     "output_type": "stream",
     "text": [
      "[1] 18.73817\n"
     ]
    }
   ],
   "source": [
    "# Define the lambda grid\n",
    "lambda <- 10^seq(10, -2, length = 100)\n",
    "# Fit the Lasso model\n",
    "lasso_reg1 <- cv.glmnet(X_train, Y_train, alpha = 1, lambda = lambda)\n",
    "\n",
    "# Print the optimal lambda value\n",
    "bestlam <- lasso_reg1$lambda.min\n",
    "print(bestlam)\n"
   ]
  },
  {
   "cell_type": "markdown",
   "id": "12dbea68",
   "metadata": {
    "papermill": {
     "duration": 0.007425,
     "end_time": "2024-09-20T20:57:13.059156",
     "exception": false,
     "start_time": "2024-09-20T20:57:13.051731",
     "status": "completed"
    },
    "tags": []
   },
   "source": [
    "**2)** Display the coefficients of all the variables. Do you notice some variables being dropped out? Which ones are they?   (1 mark)"
   ]
  },
  {
   "cell_type": "code",
   "execution_count": 11,
   "id": "55ec602f",
   "metadata": {
    "execution": {
     "iopub.execute_input": "2024-09-20T20:57:13.078061Z",
     "iopub.status.busy": "2024-09-20T20:57:13.076463Z",
     "iopub.status.idle": "2024-09-20T20:57:13.168051Z",
     "shell.execute_reply": "2024-09-20T20:57:13.165496Z"
    },
    "papermill": {
     "duration": 0.104667,
     "end_time": "2024-09-20T20:57:13.171268",
     "exception": false,
     "start_time": "2024-09-20T20:57:13.066601",
     "status": "completed"
    },
    "tags": []
   },
   "outputs": [
    {
     "name": "stdout",
     "output_type": "stream",
     "text": [
      "28 x 1 sparse Matrix of class \"dgCMatrix\"\n",
      "                                                    s1\n",
      "(Intercept)                                 122.217413\n",
      "Product_Weight                                .       \n",
      "Energy_EfficiencyStandard                    18.522185\n",
      "Visibility_Index                            -71.233399\n",
      "Product_CategoryCameras                       .       \n",
      "Product_CategoryHeadphones                    .       \n",
      "Product_CategoryHome Theater Systems          .       \n",
      "Product_CategoryKeyboards                     .       \n",
      "Product_CategoryLaptops                       .       \n",
      "Product_CategoryMicrowaves                    .       \n",
      "Product_CategoryMiscellaneous Electronics     .       \n",
      "Product_CategoryMonitors                      .       \n",
      "Product_CategoryMouse                         .       \n",
      "Product_CategoryPrinters                      .       \n",
      "Product_CategoryRefrigerators                 .       \n",
      "Product_CategorySmartphones                   .       \n",
      "Product_CategorySpeakers                      .       \n",
      "Product_CategoryTablets                       .       \n",
      "Product_CategoryWashing Machines              .       \n",
      "Product_Price                                15.525728\n",
      "Store_Established_Year                        .       \n",
      "Store_SizeMedium                              .       \n",
      "Store_SizeSmall                               .       \n",
      "Location_TypeTier 2                           5.378779\n",
      "Location_TypeTier 3                           .       \n",
      "Store_TypeElectronics Store Type2          -244.552347\n",
      "Store_TypeRetail Electronics Store        -1884.312388\n",
      "Store_TypeSpecialty Electronics Store      1314.902412\n"
     ]
    }
   ],
   "source": [
    "# Display the coefficients of all the variables\n",
    "lasso_reg <- glmnet(X_train, Y_train, alpha = 1, lambda = bestlam)\n",
    "lasso.coef <- predict(lasso_reg, type = \"coefficients\", s = bestlam)\n",
    "print(lasso.coef)\n"
   ]
  },
  {
   "cell_type": "markdown",
   "id": "922d7cdd",
   "metadata": {
    "papermill": {
     "duration": 0.007434,
     "end_time": "2024-09-20T20:57:13.186368",
     "exception": false,
     "start_time": "2024-09-20T20:57:13.178934",
     "status": "completed"
    },
    "tags": []
   },
   "source": [
    "As we can see 20 variables are dropped.      (Note: Your dropped variables and answers for best lambda might be completely different depending on how the model is built)"
   ]
  },
  {
   "cell_type": "markdown",
   "id": "12259ea4",
   "metadata": {
    "papermill": {
     "duration": 0.007833,
     "end_time": "2024-09-20T20:57:13.201858",
     "exception": false,
     "start_time": "2024-09-20T20:57:13.194025",
     "status": "completed"
    },
    "tags": []
   },
   "source": [
    "## Elastic Net Regression\n",
    "\n",
    "Elastic Net regression, an advanced form of linear regression, combines the benefits of L1 (Lasso) and L2 (Ridge) regularization methods. By integrating both penalty terms, Elastic Net overcomes the limitations of each, offering resilience against multicollinearity, aiding feature selection, and preventing overfitting. \n",
    "\n",
    "This approach makes Elastic Net a very versatile approach for achieving accurate and efficient models by finding a middle ground between dropping parameters and retaining important predictors. "
   ]
  },
  {
   "cell_type": "markdown",
   "id": "a585c67c",
   "metadata": {
    "papermill": {
     "duration": 0.007343,
     "end_time": "2024-09-20T20:57:13.216608",
     "exception": false,
     "start_time": "2024-09-20T20:57:13.209265",
     "status": "completed"
    },
    "tags": []
   },
   "source": [
    "**1)** Build your Elastic Net Regression model incorporating all the steps we previously followed for ridge and lasso regression. (Play around with the alpha value and find out how it affects the model)            (2 marks)\n"
   ]
  },
  {
   "cell_type": "markdown",
   "id": "083e22c4",
   "metadata": {
    "papermill": {
     "duration": 0.007477,
     "end_time": "2024-09-20T20:57:13.231537",
     "exception": false,
     "start_time": "2024-09-20T20:57:13.224060",
     "status": "completed"
    },
    "tags": []
   },
   "source": [
    "Identify and list the variables that have been dropped in the Elastic Net model. How does this compare to the variables dropped in the Lasso model? "
   ]
  },
  {
   "cell_type": "code",
   "execution_count": 12,
   "id": "b4552342",
   "metadata": {
    "execution": {
     "iopub.execute_input": "2024-09-20T20:57:13.250646Z",
     "iopub.status.busy": "2024-09-20T20:57:13.248529Z",
     "iopub.status.idle": "2024-09-20T20:57:13.493924Z",
     "shell.execute_reply": "2024-09-20T20:57:13.491584Z"
    },
    "papermill": {
     "duration": 0.258173,
     "end_time": "2024-09-20T20:57:13.497051",
     "exception": false,
     "start_time": "2024-09-20T20:57:13.238878",
     "status": "completed"
    },
    "tags": []
   },
   "outputs": [
    {
     "name": "stdout",
     "output_type": "stream",
     "text": [
      "28 x 1 sparse Matrix of class \"dgCMatrix\"\n",
      "                                                    s1\n",
      "(Intercept)                                 140.806479\n",
      "Product_Weight                                .       \n",
      "Energy_EfficiencyStandard                    30.348990\n",
      "Visibility_Index                           -236.076233\n",
      "Product_CategoryCameras                       .       \n",
      "Product_CategoryHeadphones                    9.843827\n",
      "Product_CategoryHome Theater Systems          .       \n",
      "Product_CategoryKeyboards                     .       \n",
      "Product_CategoryLaptops                       .       \n",
      "Product_CategoryMicrowaves                    .       \n",
      "Product_CategoryMiscellaneous Electronics    -3.195723\n",
      "Product_CategoryMonitors                      .       \n",
      "Product_CategoryMouse                         .       \n",
      "Product_CategoryPrinters                      .       \n",
      "Product_CategoryRefrigerators                -2.075726\n",
      "Product_CategorySmartphones                   .       \n",
      "Product_CategorySpeakers                      .       \n",
      "Product_CategoryTablets                       .       \n",
      "Product_CategoryWashing Machines              .       \n",
      "Product_Price                                15.346608\n",
      "Store_Established_Year                        .       \n",
      "Store_SizeMedium                             14.887900\n",
      "Store_SizeSmall                               .       \n",
      "Location_TypeTier 2                          25.893159\n",
      "Location_TypeTier 3                           .       \n",
      "Store_TypeElectronics Store Type2          -259.106387\n",
      "Store_TypeRetail Electronics Store        -1851.576104\n",
      "Store_TypeSpecialty Electronics Store      1307.878530\n"
     ]
    }
   ],
   "source": [
    "## Write your code here\n",
    "#If we choose alpha as 0.3:\n",
    "lambda <- 10^seq(10, -2, length = 100)\n",
    "\n",
    "# Train the Elastic Net model with alpha = 0.3\n",
    "elastic_net_model <- cv.glmnet(X_train, Y_train, alpha = 0.3, lambda = lambda)\n",
    "\n",
    "# Get the best lambda from cross-validation\n",
    "best_lambda <- elastic_net_model$lambda.min\n",
    "best_coef <- coef(elastic_net_model, s = best_lambda)\n",
    "print(best_coef)"
   ]
  },
  {
   "cell_type": "markdown",
   "id": "3aa46d53",
   "metadata": {
    "papermill": {
     "duration": 0.008258,
     "end_time": "2024-09-20T20:57:13.513199",
     "exception": false,
     "start_time": "2024-09-20T20:57:13.504941",
     "status": "completed"
    },
    "tags": []
   },
   "source": [
    "We can see that fewer variables are dropped than in Lasso."
   ]
  },
  {
   "cell_type": "code",
   "execution_count": 13,
   "id": "66cbbad3",
   "metadata": {
    "execution": {
     "iopub.execute_input": "2024-09-20T20:57:13.533459Z",
     "iopub.status.busy": "2024-09-20T20:57:13.531624Z",
     "iopub.status.idle": "2024-09-20T20:57:16.893088Z",
     "shell.execute_reply": "2024-09-20T20:57:16.890685Z"
    },
    "papermill": {
     "duration": 3.375616,
     "end_time": "2024-09-20T20:57:16.896618",
     "exception": false,
     "start_time": "2024-09-20T20:57:13.521002",
     "status": "completed"
    },
    "tags": []
   },
   "outputs": [
    {
     "name": "stdout",
     "output_type": "stream",
     "text": [
      "Best Elastic Net Model - Alpha: 0.8  - Lambda: 18.73817  - MSE: 1273661 \n"
     ]
    },
    {
     "name": "stdout",
     "output_type": "stream",
     "text": [
      "28 x 1 sparse Matrix of class \"dgCMatrix\"\n",
      "                                                   s1\n",
      "(Intercept)                                 117.94479\n",
      "Product_Weight                                .      \n",
      "Energy_EfficiencyStandard                    26.50738\n",
      "Visibility_Index                           -142.69033\n",
      "Product_CategoryCameras                       .      \n",
      "Product_CategoryHeadphones                    2.97123\n",
      "Product_CategoryHome Theater Systems          .      \n",
      "Product_CategoryKeyboards                     .      \n",
      "Product_CategoryLaptops                       .      \n",
      "Product_CategoryMicrowaves                    .      \n",
      "Product_CategoryMiscellaneous Electronics     .      \n",
      "Product_CategoryMonitors                      .      \n",
      "Product_CategoryMouse                         .      \n",
      "Product_CategoryPrinters                      .      \n",
      "Product_CategoryRefrigerators                 .      \n",
      "Product_CategorySmartphones                   .      \n",
      "Product_CategorySpeakers                      .      \n",
      "Product_CategoryTablets                       .      \n",
      "Product_CategoryWashing Machines              .      \n",
      "Product_Price                                15.55108\n",
      "Store_Established_Year                        .      \n",
      "Store_SizeMedium                              .      \n",
      "Store_SizeSmall                               .      \n",
      "Location_TypeTier 2                          12.99521\n",
      "Location_TypeTier 3                           .      \n",
      "Store_TypeElectronics Store Type2          -252.43013\n",
      "Store_TypeRetail Electronics Store        -1885.26079\n",
      "Store_TypeSpecialty Electronics Store      1325.27097\n"
     ]
    }
   ],
   "source": [
    "#If we iterate for a range of alpha values and choose the model that has minimum MSE:\n",
    "data <- read.csv(\"/kaggle/input/2b-data/2b-data.csv\")\n",
    "train<-data[c(-1,-7)]\n",
    "Y<-train[c(10)]\n",
    "X <- model.matrix(Sales_Performance~., train)[, -1]\n",
    "set.seed(567)\n",
    "part <- sample(2, nrow(X), replace = TRUE, prob = c(0.7, 0.3))\n",
    "X_train<- X[part == 1,]\n",
    "X_cv<- X[part == 2,]\n",
    "\n",
    "Y_train<- Y[part == 1,]\n",
    "Y_cv<- Y[part == 2,]\n",
    "\n",
    "lambda <- 10^seq(10, -2, length = 100)\n",
    "alpha_values <- seq(0, 1, length = 11)  # Exploring a range of alpha values\n",
    "\n",
    "# Initialize a list to store results\n",
    "results <- list()\n",
    "best_model <- NULL\n",
    "best_mse <- Inf  # Start with a high MSE to find the minimum\n",
    "\n",
    "# Perform Elastic Net Regression for different alpha values\n",
    "for (alpha in alpha_values) {\n",
    "  \n",
    "\n",
    "  # Fit Elastic Net model\n",
    "  elastic_net_model <- cv.glmnet(X_train, Y_train, alpha = alpha, lambda = lambda)\n",
    "  bestlam <- elastic_net_model$lambda.min\n",
    "  \n",
    "  \n",
    "  elastic_net_pred <- predict(elastic_net_model, s = bestlam, newx = X_cv)\n",
    "  mse <- mean((Y_cv - elastic_net_pred)^2)\n",
    "  \n",
    "  # Store the best model\n",
    "  if (mse < best_mse) {\n",
    "    best_mse <- mse\n",
    "    best_model <- elastic_net_model\n",
    "    best_alpha <- alpha\n",
    "    best_lambda <- bestlam\n",
    "  }\n",
    "}\n",
    "\n",
    "# Display the results for the best model\n",
    "cat(\"Best Elastic Net Model - Alpha:\", best_alpha, \" - Lambda:\", best_lambda, \" - MSE:\", best_mse, \"\\n\")\n",
    "\n",
    "# Extract and display the coefficients of the best model\n",
    "best_coef <- coef(best_model, s = best_lambda)\n",
    "print(best_coef)"
   ]
  },
  {
   "cell_type": "markdown",
   "id": "ea49c73e",
   "metadata": {
    "papermill": {
     "duration": 0.008328,
     "end_time": "2024-09-20T20:57:16.913311",
     "exception": false,
     "start_time": "2024-09-20T20:57:16.904983",
     "status": "completed"
    },
    "tags": []
   },
   "source": [
    "19 variables are dropped,not much lesser than Lasso mostly because best alpha is 0.8 which is very close to alpha value=1 of Lasso. Various product categories and store attributes, have coefficients of zero, effectively being excluded. This is similar to Lasso's property of feature selection, where less relevant features are set to zero."
   ]
  },
  {
   "cell_type": "markdown",
   "id": "627b8434",
   "metadata": {
    "papermill": {
     "duration": 0.007917,
     "end_time": "2024-09-20T20:57:16.929550",
     "exception": false,
     "start_time": "2024-09-20T20:57:16.921633",
     "status": "completed"
    },
    "tags": []
   },
   "source": [
    "What does that tell you about the number of hyperparameters in Elastic Net Regression compared to the other two models?\n",
    "\n",
    "Elastic Net Regression combines features of both Ridge and Lasso Regression, leading to some unique behaviors in its coefficients:\n",
    "\n",
    "Combining Regularization:<br>\n",
    "Ridge Effect (L2 Norm): It shrinks coefficients towards zero but doesn’t make them exactly zero.<br>\n",
    "Lasso Effect (L1 Norm): It can shrink coefficients to zero, effectively performing variable selection by excluding some predictors from the model.<br>\n",
    "Impact on Coefficients:<br>\n",
    "Balance of Shrinkage and Sparsity: Depending on the alpha parameter, Elastic Net applies a mix of Ridge and Lasso penalties. This can result in some coefficients being exactly zero (like Lasso) and others being shrunk but not zero (like Ridge).<br>\n",
    "Handling Correlated Features: Elastic Net is particularly useful when dealing with correlated features, as it can select groups of related features rather than picking just one.<br>\n",
    "\n",
    "Hyperparameters in Elastic Net Regression\n",
    "Elastic Net involves two key hyperparameters:\n",
    "\n",
    "Lambda (Regularization Strength): Controls the overall intensity of the regularization applied to the model.<br>\n",
    "Alpha (Mixing Parameter): Determines the balance between Lasso and Ridge penalties.\n",
    "alpha = 0: The model behaves like Ridge Regression.\n",
    "alpha = 1: The model behaves like Lasso Regression.\n",
    "0 < alpha < 1: The model incorporates a blend of both penalties.\n",
    "\n"
   ]
  }
 ],
 "metadata": {
  "kaggle": {
   "accelerator": "none",
   "dataSources": [
    {
     "datasetId": 5474739,
     "sourceId": 9075432,
     "sourceType": "datasetVersion"
    }
   ],
   "dockerImageVersionId": 30749,
   "isGpuEnabled": false,
   "isInternetEnabled": true,
   "language": "r",
   "sourceType": "notebook"
  },
  "kernelspec": {
   "display_name": "R",
   "language": "R",
   "name": "ir"
  },
  "language_info": {
   "codemirror_mode": "r",
   "file_extension": ".r",
   "mimetype": "text/x-r-source",
   "name": "R",
   "pygments_lexer": "r",
   "version": "4.4.0"
  },
  "papermill": {
   "default_parameters": {},
   "duration": 11.771591,
   "end_time": "2024-09-20T20:57:17.060095",
   "environment_variables": {},
   "exception": null,
   "input_path": "__notebook__.ipynb",
   "output_path": "__notebook__.ipynb",
   "parameters": {},
   "start_time": "2024-09-20T20:57:05.288504",
   "version": "2.6.0"
  }
 },
 "nbformat": 4,
 "nbformat_minor": 5
}
